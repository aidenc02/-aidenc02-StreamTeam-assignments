{
 "cells": [
  {
   "cell_type": "markdown",
   "id": "23beef8f",
   "metadata": {},
   "source": [
    "## Assignment 2"
   ]
  },
  {
   "cell_type": "markdown",
   "id": "20e26d70",
   "metadata": {},
   "source": [
    "In this assignment, we are asking you to make estimates for what to expect when doing orbit integrations. This will rely on some of the math that we went over at the first meeting. You should be able to find those slides on the StreamTeam Google Drive, which is linked in the Slack \"General\" channel bookmarks (above all the messages).\n",
    "\n",
    "Using some of the equations that we learned about last week, we should be able to make predictions about the orbits of individual stars. This will help us understand how streams form and also give allow us to compare our code results to expectations once we start to make streams in Gala.\n",
    "\n",
    "I will guide you through writing the code for the first question and you should use the coding techniques (commenting, printing answers, keeping track of units, function writing (optional)) introduced there when finding the answers to questions 2 and 3."
   ]
  },
  {
   "cell_type": "markdown",
   "id": "deac3d29",
   "metadata": {},
   "source": [
    "First let's import the normal packages that we always use"
   ]
  },
  {
   "cell_type": "code",
   "execution_count": 11,
   "id": "92f79398",
   "metadata": {},
   "outputs": [],
   "source": [
    "import numpy as np\n",
    "import matplotlib.pyplot as plt\n",
    "%matplotlib inline\n",
    "\n",
    "# Gala (this is not strictly necessary, since this notebook doesn't use Gala, but a good habit)\n",
    "import gala\n",
    "import gala.dynamics as gd\n",
    "import gala.potential as gp"
   ]
  },
  {
   "cell_type": "markdown",
   "id": "1e04f2b7",
   "metadata": {},
   "source": [
    "#### Quick Background\n",
    "\n",
    "As we have seen, streams are made up of stars that were once either dwarf galaxies or globular clusters. We can refer to either one of these as \"satellites\" that orbit the Milky Way. On those orbits, satellite stars are *tidally stripped*, forming streams. The stars are stripped when the \"pull\" from the host galaxy is stronger than the gravitational force within the satellite itself. When that happens to a star, it will separate from its satellite and become part of a stream of stars undergoing the same fate. THe overcoming of the gravitational force of the satellite on a given star will happen at a certain radius from the center of the satellite, called the *tidal radius*. The *tidal radius* at which stars are lost from the satellite is given by the formula $$r_{tide} \\sim (\\frac{m_{sat}}{M_{gal}})^{1/3} R$$"
   ]
  },
  {
   "cell_type": "markdown",
   "id": "7d827257",
   "metadata": {},
   "source": [
    "#### Question 1\n",
    "\n",
    "Calculate $r_{tide}$ for two satellites, one with mass $m_{sat} = 10^5 M_{\\odot}$ and one with mass $m_{sat} = 10^9 M_{\\odot}$ orbiting a galaxy of mass $M_{gal} = 5 \\times 10^{11} M_{\\odot}$ at $R_0 = 30$ kpc"
   ]
  },
  {
   "cell_type": "code",
   "execution_count": 1,
   "id": "42f73a4f",
   "metadata": {},
   "outputs": [
    {
     "name": "stdout",
     "output_type": "stream",
     "text": [
      "Smaller satellite r_tide = 0.175441064292772 kpc\n",
      "Larger satellite r_tide = 3.7797631496846193 kpc\n"
     ]
    }
   ],
   "source": [
    "# write code below to calculate r_tide. \n",
    "#  Call r_tide for the smaller satellite r_tide1 and r_tide for the larger one r_tide2\n",
    "r_tide1 = ((10**5 / 5e11)**(1/3)) * 30\n",
    "r_tide2 = ((10**9 / 5e11)**(1/3)) * 30\n",
    "\n",
    "# Quick check: What units is your answer in? \n",
    "    #ans: kpc, because R is in kpc and the m/M term is unitless\n",
    "#  You didn't need to code units into your code specifically, \n",
    "#   but you should always make sure you know what units you are working with. \n",
    "#  If it isn't already, make sure that r_tide1 and r_tide2 are in kpc, \n",
    "#   so that the two lines of output at the end of this cell are correct\n",
    "\n",
    "# End your code with these two lines to output your results:\n",
    "print('Smaller satellite r_tide = {} kpc'.format(r_tide1))\n",
    "print('Larger satellite r_tide = {} kpc'.format(r_tide2))"
   ]
  },
  {
   "cell_type": "markdown",
   "id": "bfb3f817",
   "metadata": {},
   "source": [
    "Now that you've written your code let's do a guided practice with function writing in python if you aren't familiar with it already. Try to write a function that takes in as variables the satelite mass, galaxy mass, and radius from galaxy center, and outputs the tidal radius."
   ]
  },
  {
   "cell_type": "code",
   "execution_count": 3,
   "id": "2365f25a",
   "metadata": {},
   "outputs": [],
   "source": [
    "# Here is the basic structure of your code to write functions:\n",
    "\n",
    "# Make sure to change the names of the functions and parameters to things \n",
    "#  that make sense for you and anyone reading your code\n",
    "    \n",
    "def tidal_radius(m_sat, M_gal, R): \n",
    "    # use the code you've written above to go from your inputed parameters to the output\n",
    "    r_tide = ((m_sat / M_gal)**(1/3)) * R\n",
    "    return r_tide # this outputs you the tidal radius for your inputed parameters"
   ]
  },
  {
   "cell_type": "markdown",
   "id": "9f87a896",
   "metadata": {},
   "source": [
    "As a test, you should now be able to run the following cell, after changing the name of your function"
   ]
  },
  {
   "cell_type": "code",
   "execution_count": 4,
   "id": "5c1c3817",
   "metadata": {},
   "outputs": [
    {
     "name": "stdout",
     "output_type": "stream",
     "text": [
      "Smaller satellite r_tide = 0.175441064292772 kpc\n",
      "Larger satellite r_tide = 3.7797631496846193 kpc\n"
     ]
    }
   ],
   "source": [
    "r_tide1 = tidal_radius(10**5, 5*10**11, 30)\n",
    "r_tide2 = tidal_radius(10**9, 5*10**11, 30)\n",
    "\n",
    "print('Smaller satellite r_tide = {} kpc'.format(r_tide1))\n",
    "print('Larger satellite r_tide = {} kpc'.format(r_tide2))\n",
    "\n",
    "# this should output exactly the same thing as your initial code \n",
    "#  but it has the advantage that you can now easily try out other values for m_sat, m_gal, and R"
   ]
  },
  {
   "cell_type": "markdown",
   "id": "6e1f2dc6",
   "metadata": {},
   "source": [
    "Pick one of the two satellites and use the function you just wrote to answer: What happens when to $r_{tide}$ when you decrease the radius of the satellite to 5 kpc? What if you increase it to 100 kpc?"
   ]
  },
  {
   "cell_type": "code",
   "execution_count": 5,
   "id": "00ed78a1",
   "metadata": {},
   "outputs": [
    {
     "name": "stdout",
     "output_type": "stream",
     "text": [
      "Inner satellite r_tide = 0.029240177382128668 kpc\n",
      "Outer satellite r_tide = 0.5848035476425734 kpc\n"
     ]
    }
   ],
   "source": [
    "# Write your code below using the function you defined earlier\n",
    "\n",
    "r_tide_inner = tidal_radius(10**5, 5e11, 5)\n",
    "r_tide_outer = tidal_radius(10**5, 5e11, 100)\n",
    "\n",
    "print('Inner satellite r_tide = {} kpc'.format(r_tide_inner))\n",
    "print('Outer satellite r_tide = {} kpc'.format(r_tide_outer))"
   ]
  },
  {
   "cell_type": "markdown",
   "id": "09a0c9f3",
   "metadata": {},
   "source": [
    "#### Question 2\n",
    "\n",
    "From the previous assignment, you should have some functions written for the Hernquist potential using the Keplerian potential used in \"Leapfrog_tutorial\" as a guide. Apply those functions for the potential, acceleration, and circular velocity to complete this question. \n",
    "\n",
    "For each satellite from the previous question, what is the difference in the orbital period $T$ for stars that end up in the leading (at $R = R_0 + r_{tide}$) and trailing (at $R = R_0 - r_{tide}$) streams? Assume that the satellites are on a circular orbit, meaning you can use one of the formulas for $T$ in the slides (or at the end of the \"Leapfrog_tutorial\" notebook).\n",
    "\n",
    "What is the difference in energy for those two galaxies? Use the formula for total energy $$E = \\frac{1}{2} v_{circ}^2 + \\Phi(R \\pm r_{tide})$$ where $\\Phi$ represents the Hernquist potential."
   ]
  },
  {
   "cell_type": "code",
   "execution_count": 6,
   "id": "d896af30",
   "metadata": {},
   "outputs": [],
   "source": [
    "# Your code below...\n",
    "\n",
    "#functions -- all return SI units (sorry), assuming solar mass & kpc inputs\n",
    "G = 6.6743e-11\n",
    "def hernquist_potential(M, r, c):\n",
    "    r_to_m = r * 3.086e19 #convert kpc input to meters\n",
    "    M_to_kg = M * 1.989e30 #convert solar mass input to kilograms\n",
    "    return (-G*M_to_kg)/(r_to_m + c) \n",
    "\n",
    "def hernquist_acceleration(M, r, c):\n",
    "    r_to_m = r * 3.086e19 #convert kpc input to meters\n",
    "    M_to_kg = M * 1.989e30 #convert solar mass input to kilograms\n",
    "    return (-G * M_to_kg) / ((r_to_m + c)**2)\n",
    "\n",
    "def circular_velocity(M, r, c):\n",
    "    M_to_kg = M * 1.989e30\n",
    "    r_to_m = r * 3.086e10\n",
    "    return np.sqrt((G*M_to_kg*r_to_m) / (r_to_m + c)**2)\n",
    "\n",
    "def orbital_period(M, r, c):\n",
    "    v_circ = circular_velocity(M, r, c)\n",
    "    r_to_m = r * 3.086e10\n",
    "    return (2*np.pi*r_to_m) / v_circ \n"
   ]
  },
  {
   "cell_type": "code",
   "execution_count": 15,
   "id": "68f2e793",
   "metadata": {},
   "outputs": [
    {
     "name": "stdout",
     "output_type": "stream",
     "text": [
      "Smaller sattelite leading radius: 0.17646704986077805 kpc\n",
      "Smaller sattelite trailing radius: 0.17441507872476597 kpc\n",
      "Larger sattelite leading radius: 3.801867338676462 kpc\n",
      "Larger sattelite trailing radius: 3.757658960692777 kpc\n"
     ]
    }
   ],
   "source": [
    "#smaller sattelite\n",
    "r_tide1 = tidal_radius(10**5, 5e11, 30) #kpc\n",
    "r_tide1_leading = tidal_radius(10**5, 5e11, 30 + r_tide1) #kpc\n",
    "r_tide1_trailing = tidal_radius(10**5, 5e11, 30 - r_tide1) #kpc\n",
    "\n",
    "#larger sattelite\n",
    "r_tide2 = tidal_radius(10**9, 5e11, 30) #kpc\n",
    "r_tide2_leading = tidal_radius(10**9, 5e11, 30 + r_tide1) #kpc\n",
    "r_tide2_trailing = tidal_radius(10**9, 5e11, 30 - r_tide1) #kpc\n",
    "\n",
    "#check\n",
    "print('Smaller sattelite leading radius: {}'.format(r_tide1_leading) + ' kpc')\n",
    "print('Smaller sattelite trailing radius: {}'.format(r_tide1_trailing) + ' kpc')\n",
    "print('Larger sattelite leading radius: {}'.format(r_tide2_leading) + ' kpc')\n",
    "print('Larger sattelite trailing radius: {}'.format(r_tide2_trailing) + ' kpc')"
   ]
  },
  {
   "cell_type": "code",
   "execution_count": 30,
   "id": "9f0578d9",
   "metadata": {},
   "outputs": [
    {
     "name": "stdout",
     "output_type": "stream",
     "text": [
      "Leading-trailing period difference for smaller sattelite: 12.05260744892098 s\n",
      "Leading-trailing period difference for larger sattelite: 12.05260744821328 s\n",
      "Difference between smaller and larger sattelite gaps: 7.077005648170598e-10 s\n"
     ]
    }
   ],
   "source": [
    "#smaller sattelite periods\n",
    "period1_leading = orbital_period(10**5, r_tide1_leading, 1)\n",
    "period1_trailing = orbital_period(10**5, r_tide1_trailing, 1)\n",
    "diff_period1 = period1_leading - period1_trailing\n",
    "\n",
    "#larger sattelite periods\n",
    "period2_leading = orbital_period(10**9, r_tide2_leading, 1)\n",
    "period2_trailing = orbital_period(10**9, r_tide2_trailing, 1)\n",
    "diff_period2 = period2_leading - period2_trailing\n",
    "\n",
    "delta = diff_period1 - diff_period2\n",
    "\n",
    "#results\n",
    "print('Leading-trailing period difference for smaller sattelite: {} s'.format(diff_period1))\n",
    "print('Leading-trailing period difference for larger sattelite: {} s'.format(diff_period2))\n",
    "print('Difference between smaller and larger sattelite gaps: {} s'.format(delta))"
   ]
  },
  {
   "cell_type": "code",
   "execution_count": 22,
   "id": "0ddd49e0",
   "metadata": {},
   "outputs": [
    {
     "name": "stdout",
     "output_type": "stream",
     "text": [
      "Leading-trailing energy difference for smaller sattelite: 10828222.48815039 kJ\n",
      "Leading-trailing energy difference for larger sattelite: 233286981.6 kJ\n"
     ]
    }
   ],
   "source": [
    "#energies\n",
    "R_to_m = 30 * 3.086e10\n",
    "\n",
    "#smaller\n",
    "v_circ1 = circular_velocity(10**5, 30, 1)\n",
    "hernquist_pot1 = hernquist_potential(10**5, 30, 1)\n",
    "r_tide1_m = r_tide1 * 3.086e10\n",
    "\n",
    "energy1_leading = (0.5 * (v_circ1**2)) + (hernquist_pot1 + (R_to_m + r_tide1_m))\n",
    "energy1_trailing = (0.5 * (v_circ1**2)) + (hernquist_pot1 + (R_to_m - r_tide1_m))\n",
    "\n",
    "diff_energy1 = energy1_leading - energy1_trailing\n",
    "\n",
    "#larger\n",
    "v_circ2 = circular_velocity(10**9, 30, 1)\n",
    "hernquist_pot2 = hernquist_potential(10**9, 30, 1)\n",
    "r_tide2_m = r_tide2 * 3.086e10\n",
    "\n",
    "energy2_leading = (0.5 * (v_circ2**2)) + (hernquist_pot2 + (R_to_m + r_tide2_m))\n",
    "energy2_trailing = (0.5 * (v_circ2**2)) + (hernquist_pot2 + (R_to_m - r_tide2_m))\n",
    "\n",
    "diff_energy2 = energy2_leading - energy2_trailing\n",
    "\n",
    "#results\n",
    "print('Leading-trailing energy difference for smaller sattelite: {} kJ'.format(diff_energy1 / 1000))\n",
    "print('Leading-trailing energy difference for larger sattelite: {} kJ'.format(diff_energy2 / 1000))"
   ]
  },
  {
   "cell_type": "markdown",
   "id": "50dd6f34",
   "metadata": {},
   "source": [
    "#### Question 3\n",
    "\n",
    "Roughly how long (in angle around the galaxy) do you think your streams should be after 1 orbit? After 10 orbits?\n",
    "\n",
    "Hint: You'll need to find the angular velocity difference of stars in the leading and trailing streams from your answer to **Question 2**."
   ]
  },
  {
   "cell_type": "code",
   "execution_count": 23,
   "id": "347a824c",
   "metadata": {},
   "outputs": [],
   "source": [
    "# Your code below...\n",
    "\n",
    "#delta v_ang = angle / time ==> angle = v_ang * time\n",
    "\n",
    "#N = number of orbits\n",
    "def gal_angle(delta_v_ang, delta_period, N):\n",
    "    return delta_v_ang * (delta_period * N) #returns in radians"
   ]
  },
  {
   "cell_type": "code",
   "execution_count": 34,
   "id": "cb99d3e4",
   "metadata": {},
   "outputs": [
    {
     "name": "stdout",
     "output_type": "stream",
     "text": [
      "Smaller sattelite angular size, one orbit: 0.001934030935274034 rads, ten orbits: 0.01934030935274034 rads\n",
      "Larger sattelite angular size, one orbit: 0.0019340309357282065 rads, ten orbits: 0.019340309357282065 rads\n"
     ]
    }
   ],
   "source": [
    "#smaller\n",
    "v_ang_leading1 = 2*np.pi / period1_leading #angular velocity, units rad/s\n",
    "v_ang_trailing1 = 2*np.pi / period1_trailing\n",
    "\n",
    "delta_v_ang1 = abs(v_ang_leading1 - v_ang_trailing1) #angular velocity difference\n",
    "\n",
    "#larger\n",
    "v_ang_leading2 = 2*np.pi / period2_leading\n",
    "v_ang_trailing2 = 2*np.pi / period2_trailing\n",
    "\n",
    "delta_v_ang2 = abs(v_ang_leading2 - v_ang_trailing2)\n",
    "\n",
    "#calculations\n",
    "angle1_one = gal_angle(delta_v_ang1, diff_period1, 1)\n",
    "angle1_ten = gal_angle(delta_v_ang1, diff_period1, 10)\n",
    "\n",
    "angle2_one = gal_angle(delta_v_ang2, diff_period2, 1)\n",
    "angle2_ten = gal_angle(delta_v_ang2, diff_period2, 10)\n",
    "\n",
    "#print results \n",
    "print('Smaller sattelite angular size, one orbit: {0} rads, ten orbits: {1} rads'.format(angle1_one, angle1_ten))\n",
    "print('Larger sattelite angular size, one orbit: {0} rads, ten orbits: {1} rads'.format(angle2_one, angle2_ten))\n"
   ]
  },
  {
   "cell_type": "code",
   "execution_count": 36,
   "id": "8391cf23",
   "metadata": {},
   "outputs": [
    {
     "name": "stdout",
     "output_type": "stream",
     "text": [
      "Smaller sattelite, one orbit: 0.11081181003894144 deg, ten orbits: 1.1081181003894145 deg\n",
      "Smaller sattelite, one orbit: 0.11081181006496361 deg, ten orbits: 1.1081181006496361 deg\n"
     ]
    }
   ],
   "source": [
    "#in degrees\n",
    "angle1_one_deg = angle1_one * (180 / np.pi)\n",
    "angle1_ten_deg = angle1_ten * (180 / np.pi)\n",
    "\n",
    "angle2_one_deg = angle2_one * (180 / np.pi)\n",
    "angle2_ten_deg = angle2_ten * (180 / np.pi)\n",
    "\n",
    "print('Smaller sattelite, one orbit: {0} deg, ten orbits: {1} deg'.format(angle1_one_deg, angle1_ten_deg))\n",
    "print('Smaller sattelite, one orbit: {0} deg, ten orbits: {1} deg'.format(angle2_one_deg, angle2_ten_deg))\n"
   ]
  },
  {
   "cell_type": "code",
   "execution_count": null,
   "id": "1c5e18f4",
   "metadata": {},
   "outputs": [],
   "source": []
  }
 ],
 "metadata": {
  "kernelspec": {
   "display_name": "Python 3 (ipykernel)",
   "language": "python",
   "name": "python3"
  },
  "language_info": {
   "codemirror_mode": {
    "name": "ipython",
    "version": 3
   },
   "file_extension": ".py",
   "mimetype": "text/x-python",
   "name": "python",
   "nbconvert_exporter": "python",
   "pygments_lexer": "ipython3",
   "version": "3.9.13"
  }
 },
 "nbformat": 4,
 "nbformat_minor": 5
}
